{
 "cells": [
  {
   "cell_type": "code",
   "execution_count": 14,
   "id": "b7ae268a",
   "metadata": {},
   "outputs": [],
   "source": [
    "import sqlite3\n",
    "import matplotlib.pyplot as plt\n",
    "import pandas as pd"
   ]
  },
  {
   "cell_type": "code",
   "execution_count": 16,
   "id": "99cf5321",
   "metadata": {},
   "outputs": [],
   "source": [
    "conn = sqlite3.connect('sales.db')  # Replace with your DB file\n",
    "cursor = conn.cursor()"
   ]
  },
  {
   "cell_type": "code",
   "execution_count": 4,
   "id": "0cf18e7e",
   "metadata": {},
   "outputs": [
    {
     "data": {
      "text/plain": [
       "<sqlite3.Cursor at 0x2c6bfe0aab0>"
      ]
     },
     "execution_count": 4,
     "metadata": {},
     "output_type": "execute_result"
    }
   ],
   "source": [
    "cursor.execute('''\n",
    "CREATE TABLE IF NOT EXISTS sales (\n",
    "    id INTEGER PRIMARY KEY AUTOINCREMENT,\n",
    "    item TEXT,\n",
    "    quantity INTEGER,\n",
    "    price REAL\n",
    ")\n",
    "''')"
   ]
  },
  {
   "cell_type": "code",
   "execution_count": 5,
   "id": "7bc5bab6",
   "metadata": {},
   "outputs": [],
   "source": [
    "sample_data = [\n",
    "    ('Apple', 10, 0.50),\n",
    "    ('Banana', 20, 0.30),\n",
    "    ('Orange', 15, 0.60),\n",
    "    ('Apple', 5, 0.50),\n",
    "    ('Banana', 10, 0.30),\n",
    "    ('Orange', 10, 0.60)\n",
    "]"
   ]
  },
  {
   "cell_type": "code",
   "execution_count": 6,
   "id": "559dd76d",
   "metadata": {},
   "outputs": [],
   "source": [
    "cursor.executemany('INSERT INTO sales (item, quantity, price) VALUES (?, ?, ?)', sample_data)\n",
    "conn.commit()"
   ]
  },
  {
   "cell_type": "code",
   "execution_count": 9,
   "id": "dcd4e34f",
   "metadata": {},
   "outputs": [],
   "source": [
    "cursor.execute(\"SELECT SUM(quantity), SUM(quantity * price) FROM sales\")\n",
    "total_quantity, total_revenue = cursor.fetchone()"
   ]
  },
  {
   "cell_type": "code",
   "execution_count": 10,
   "id": "d4541c96",
   "metadata": {},
   "outputs": [
    {
     "name": "stdout",
     "output_type": "stream",
     "text": [
      "=== Sales Summary ===\n",
      "Total Quantity Sold: 70\n",
      "Total Revenue: $31.50\n"
     ]
    }
   ],
   "source": [
    "print(\"=== Sales Summary ===\")\n",
    "print(f\"Total Quantity Sold: {total_quantity}\")\n",
    "print(f\"Total Revenue: ${total_revenue:.2f}\")"
   ]
  },
  {
   "cell_type": "code",
   "execution_count": 11,
   "id": "14ec0c8a",
   "metadata": {},
   "outputs": [],
   "source": [
    "cursor.execute(\"SELECT item, SUM(quantity), SUM(quantity * price) FROM sales GROUP BY item\")\n",
    "rows = cursor.fetchall()"
   ]
  },
  {
   "cell_type": "code",
   "execution_count": 17,
   "id": "fa7b51b7",
   "metadata": {},
   "outputs": [],
   "source": [
    "df = pd.read_sql_query(\"SELECT * FROM sales\", conn)"
   ]
  },
  {
   "cell_type": "code",
   "execution_count": 18,
   "id": "5269003c",
   "metadata": {},
   "outputs": [
    {
     "data": {
      "text/html": [
       "<div>\n",
       "<style scoped>\n",
       "    .dataframe tbody tr th:only-of-type {\n",
       "        vertical-align: middle;\n",
       "    }\n",
       "\n",
       "    .dataframe tbody tr th {\n",
       "        vertical-align: top;\n",
       "    }\n",
       "\n",
       "    .dataframe thead th {\n",
       "        text-align: right;\n",
       "    }\n",
       "</style>\n",
       "<table border=\"1\" class=\"dataframe\">\n",
       "  <thead>\n",
       "    <tr style=\"text-align: right;\">\n",
       "      <th></th>\n",
       "      <th>id</th>\n",
       "      <th>item</th>\n",
       "      <th>quantity</th>\n",
       "      <th>price</th>\n",
       "    </tr>\n",
       "  </thead>\n",
       "  <tbody>\n",
       "    <tr>\n",
       "      <th>0</th>\n",
       "      <td>1</td>\n",
       "      <td>Apple</td>\n",
       "      <td>10</td>\n",
       "      <td>0.5</td>\n",
       "    </tr>\n",
       "    <tr>\n",
       "      <th>1</th>\n",
       "      <td>2</td>\n",
       "      <td>Banana</td>\n",
       "      <td>20</td>\n",
       "      <td>0.3</td>\n",
       "    </tr>\n",
       "    <tr>\n",
       "      <th>2</th>\n",
       "      <td>3</td>\n",
       "      <td>Orange</td>\n",
       "      <td>15</td>\n",
       "      <td>0.6</td>\n",
       "    </tr>\n",
       "    <tr>\n",
       "      <th>3</th>\n",
       "      <td>4</td>\n",
       "      <td>Apple</td>\n",
       "      <td>5</td>\n",
       "      <td>0.5</td>\n",
       "    </tr>\n",
       "    <tr>\n",
       "      <th>4</th>\n",
       "      <td>5</td>\n",
       "      <td>Banana</td>\n",
       "      <td>10</td>\n",
       "      <td>0.3</td>\n",
       "    </tr>\n",
       "    <tr>\n",
       "      <th>5</th>\n",
       "      <td>6</td>\n",
       "      <td>Orange</td>\n",
       "      <td>10</td>\n",
       "      <td>0.6</td>\n",
       "    </tr>\n",
       "  </tbody>\n",
       "</table>\n",
       "</div>"
      ],
      "text/plain": [
       "   id    item  quantity  price\n",
       "0   1   Apple        10    0.5\n",
       "1   2  Banana        20    0.3\n",
       "2   3  Orange        15    0.6\n",
       "3   4   Apple         5    0.5\n",
       "4   5  Banana        10    0.3\n",
       "5   6  Orange        10    0.6"
      ]
     },
     "execution_count": 18,
     "metadata": {},
     "output_type": "execute_result"
    }
   ],
   "source": [
    "df"
   ]
  },
  {
   "cell_type": "code",
   "execution_count": 22,
   "id": "ced74813",
   "metadata": {},
   "outputs": [],
   "source": [
    "items = [row[0] for row in rows]\n",
    "revenues = [row[2] for row in rows]"
   ]
  },
  {
   "cell_type": "code",
   "execution_count": 23,
   "id": "aeb3646b",
   "metadata": {},
   "outputs": [
    {
     "data": {
      "image/png": "[encoded data removed]",
      "text/plain": [
       "<Figure size 432x288 with 1 Axes>"
      ]
     },
     "metadata": {
      "needs_background": "light"
     },
     "output_type": "display_data"
    }
   ],
   "source": [
    "\n",
    "plt.bar(items, revenues, color='orange')\n",
    "plt.xlabel('Item')\n",
    "plt.ylabel('Revenue ($)')\n",
    "plt.title('Revenue by Item')\n",
    "plt.tight_layout()\n",
    "plt.show()"
   ]
  },
  {
   "cell_type": "code",
   "execution_count": null,
   "id": "cc1e38cc",
   "metadata": {},
   "outputs": [],
   "source": []
  }
 ],
 "metadata": {
  "kernelspec": {
   "display_name": "Python 3 (ipykernel)",
   "language": "python",
   "name": "python3"
  },
  "language_info": {
   "codemirror_mode": {
    "name": "ipython",
    "version": 3
   },
   "file_extension": ".py",
   "mimetype": "text/x-python",
   "name": "python",
   "nbconvert_exporter": "python",
   "pygments_lexer": "ipython3",
   "version": "3.9.12"
  }
 },
 "nbformat": 4,
 "nbformat_minor": 5
}
